{
 "cells": [
  {
   "cell_type": "code",
   "execution_count": 1,
   "metadata": {},
   "outputs": [],
   "source": [
    "import pandas as pd\n",
    "import spotipy\n",
    "import spotipy.util as util\n",
    "import re\n",
    "import collections\n",
    "from collections import Counter"
   ]
  },
  {
   "cell_type": "code",
   "execution_count": 2,
   "metadata": {},
   "outputs": [],
   "source": [
    "user_id = '31tnh4dpeuphy4evlem6vvr2bqdq'\n",
    "playlist_id = '5EQrmGSAtksHmmlXLgKguq?si=9779d603be8a4eb9'\n",
    "client_id = 'ce4b2187a6874e29b07bc528bc524153'\n",
    "client_secret= '8b1376b892164c9cad7af967c8c8515e'"
   ]
  },
  {
   "cell_type": "code",
   "execution_count": 3,
   "metadata": {},
   "outputs": [],
   "source": [
    "token = util.prompt_for_user_token(user_id,\n",
    "                                   'playlist-read-collaborative',\n",
    "                                   client_id=client_id,\n",
    "                                   client_secret=client_secret,\n",
    "                                   redirect_uri='http://localhost:8000/')"
   ]
  },
  {
   "cell_type": "code",
   "execution_count": 4,
   "metadata": {},
   "outputs": [],
   "source": [
    "sp = spotipy.Spotify(auth=token)"
   ]
  },
  {
   "cell_type": "code",
   "execution_count": 5,
   "metadata": {},
   "outputs": [],
   "source": [
    "top_200 = pd.read_csv('top_200.csv')"
   ]
  },
  {
   "cell_type": "code",
   "execution_count": 6,
   "metadata": {},
   "outputs": [],
   "source": [
    "artist_name = []\n",
    "album_id = []\n",
    "album_name = []\n",
    "track_name = []\n",
    "popularity = []\n",
    "track_id = []\n",
    "track_uri = []\n",
    "date_release = []\n",
    "track_ids_list = list(top_200['track_id'])\n",
    "for i in range(0,len(track_ids_list),50):\n",
    "    data = track_ids_list[i:i + 50]\n",
    "    tracks_df = sp.tracks(data)\n",
    "    for idx, track in enumerate(tracks_df['tracks']):\n",
    "        artist_name.append(track['artists'][0]['name'])\n",
    "        album_id.append(track['album']['id'])\n",
    "        album_name.append(track['album']['name'])\n",
    "        track_name.append(track['name'])\n",
    "        popularity.append(track['popularity'])\n",
    "        track_id.append(track['id'])\n",
    "        track_uri.append(track['uri'])\n",
    "        date_release.append(track['album']['release_date'])"
   ]
  },
  {
   "cell_type": "code",
   "execution_count": 7,
   "metadata": {},
   "outputs": [],
   "source": [
    "tracks_dataframe = pd.DataFrame({'track_id' : track_id, 'track_uri' : track_uri, 'artist_name' : artist_name, 'album_id': album_id, 'album_name': album_name, 'track_name' : track_name, 'popularity' : popularity, 'date_release':date_release})"
   ]
  },
  {
   "cell_type": "code",
   "execution_count": 8,
   "metadata": {},
   "outputs": [],
   "source": [
    "data_df = tracks_dataframe.merge(top_200, how='inner', on='track_id')\n",
    "data_df = data_df[['track_id', 'track_uri', 'artist_name', 'album_id', 'album_name', 'track_name', 'popularity', 'date_release', 'Position', 'Streams', 'URL', 'start_week', 'end_week']]\n",
    "data_df = data_df.drop_duplicates()\n",
    "data_df = data_df.reset_index(drop=True)"
   ]
  },
  {
   "cell_type": "code",
   "execution_count": 9,
   "metadata": {},
   "outputs": [],
   "source": [
    "track_id = []\n",
    "acousticness = []\n",
    "analysis_url = []\n",
    "danceability = []\n",
    "duration_ms = []\n",
    "energy = []\n",
    "instrumentalness = []\n",
    "key = []\n",
    "liveness = []\n",
    "loudness = []\n",
    "mode = []\n",
    "speechiness = []\n",
    "tempo = []\n",
    "time_signature = []\n",
    "track_href = []\n",
    "valence = []\n",
    "feature_type = []\n",
    "track_ids_list = list(data_df['track_id'])\n",
    "for i in range(0,len(track_ids_list),100):\n",
    "    data = track_ids_list[i:i + 100]\n",
    "    tracks_features = sp.audio_features(data)\n",
    "    for idx, track in enumerate(tracks_features):\n",
    "        track_id.append(track['id'])\n",
    "        acousticness.append(track['acousticness'])\n",
    "        analysis_url.append(track['analysis_url'])\n",
    "        danceability.append(track['danceability'])\n",
    "        duration_ms.append(track['duration_ms'])\n",
    "        energy.append(track['energy'])\n",
    "        instrumentalness.append(track['instrumentalness'])\n",
    "        key.append(track['key'])\n",
    "        liveness.append(track['liveness'])\n",
    "        loudness.append(track['loudness'])\n",
    "        mode.append(track['mode'])\n",
    "        speechiness.append(track['speechiness'])\n",
    "        tempo.append(track['tempo'])\n",
    "        time_signature.append(track['time_signature'])\n",
    "        track_href.append(track['track_href'])\n",
    "        valence.append(track['valence'])"
   ]
  },
  {
   "cell_type": "code",
   "execution_count": 10,
   "metadata": {},
   "outputs": [],
   "source": [
    "tracks_features_df = pd.DataFrame({'track_id' : track_id, 'track_href':track_href, 'analysis_url' : analysis_url,  'acousticness' : acousticness, 'danceability' : danceability, 'duration_ms' : duration_ms, 'energy':energy, 'instrumentalness':instrumentalness, 'key':key, 'liveness':liveness, 'loudness':loudness, 'mode':mode, 'speechiness':speechiness, 'tempo':tempo, 'time_signature':time_signature, 'valence':valence})"
   ]
  },
  {
   "cell_type": "code",
   "execution_count": 11,
   "metadata": {},
   "outputs": [],
   "source": [
    "data_featured = data_df.merge(tracks_features_df, how='inner', on='track_id')\n",
    "data_featured = data_featured.drop_duplicates()\n",
    "data_featured = data_featured.reset_index(drop=True)"
   ]
  },
  {
   "cell_type": "code",
   "execution_count": 12,
   "metadata": {},
   "outputs": [
    {
     "data": {
      "text/html": [
       "<div>\n",
       "<style scoped>\n",
       "    .dataframe tbody tr th:only-of-type {\n",
       "        vertical-align: middle;\n",
       "    }\n",
       "\n",
       "    .dataframe tbody tr th {\n",
       "        vertical-align: top;\n",
       "    }\n",
       "\n",
       "    .dataframe thead th {\n",
       "        text-align: right;\n",
       "    }\n",
       "</style>\n",
       "<table border=\"1\" class=\"dataframe\">\n",
       "  <thead>\n",
       "    <tr style=\"text-align: right;\">\n",
       "      <th></th>\n",
       "      <th>track_id</th>\n",
       "      <th>track_uri</th>\n",
       "      <th>artist_name</th>\n",
       "      <th>album_id</th>\n",
       "      <th>album_name</th>\n",
       "      <th>track_name</th>\n",
       "      <th>popularity</th>\n",
       "      <th>date_release</th>\n",
       "      <th>Position</th>\n",
       "      <th>Streams</th>\n",
       "      <th>...</th>\n",
       "      <th>energy</th>\n",
       "      <th>instrumentalness</th>\n",
       "      <th>key</th>\n",
       "      <th>liveness</th>\n",
       "      <th>loudness</th>\n",
       "      <th>mode</th>\n",
       "      <th>speechiness</th>\n",
       "      <th>tempo</th>\n",
       "      <th>time_signature</th>\n",
       "      <th>valence</th>\n",
       "    </tr>\n",
       "  </thead>\n",
       "  <tbody>\n",
       "    <tr>\n",
       "      <th>0</th>\n",
       "      <td>5aAx2yezTd8zXrkmtKl66Z</td>\n",
       "      <td>spotify:track:5aAx2yezTd8zXrkmtKl66Z</td>\n",
       "      <td>The Weeknd</td>\n",
       "      <td>09fggMHib4YkOtwQNXEBII</td>\n",
       "      <td>Starboy</td>\n",
       "      <td>Starboy</td>\n",
       "      <td>1</td>\n",
       "      <td>2016-11-25</td>\n",
       "      <td>1</td>\n",
       "      <td>25286465</td>\n",
       "      <td>...</td>\n",
       "      <td>0.594</td>\n",
       "      <td>0.000003</td>\n",
       "      <td>7</td>\n",
       "      <td>0.134</td>\n",
       "      <td>-7.028</td>\n",
       "      <td>1</td>\n",
       "      <td>0.282</td>\n",
       "      <td>186.054</td>\n",
       "      <td>4</td>\n",
       "      <td>0.535</td>\n",
       "    </tr>\n",
       "    <tr>\n",
       "      <th>1</th>\n",
       "      <td>5aAx2yezTd8zXrkmtKl66Z</td>\n",
       "      <td>spotify:track:5aAx2yezTd8zXrkmtKl66Z</td>\n",
       "      <td>The Weeknd</td>\n",
       "      <td>09fggMHib4YkOtwQNXEBII</td>\n",
       "      <td>Starboy</td>\n",
       "      <td>Starboy</td>\n",
       "      <td>1</td>\n",
       "      <td>2016-11-25</td>\n",
       "      <td>1</td>\n",
       "      <td>25734078</td>\n",
       "      <td>...</td>\n",
       "      <td>0.594</td>\n",
       "      <td>0.000003</td>\n",
       "      <td>7</td>\n",
       "      <td>0.134</td>\n",
       "      <td>-7.028</td>\n",
       "      <td>1</td>\n",
       "      <td>0.282</td>\n",
       "      <td>186.054</td>\n",
       "      <td>4</td>\n",
       "      <td>0.535</td>\n",
       "    </tr>\n",
       "    <tr>\n",
       "      <th>2</th>\n",
       "      <td>5aAx2yezTd8zXrkmtKl66Z</td>\n",
       "      <td>spotify:track:5aAx2yezTd8zXrkmtKl66Z</td>\n",
       "      <td>The Weeknd</td>\n",
       "      <td>09fggMHib4YkOtwQNXEBII</td>\n",
       "      <td>Starboy</td>\n",
       "      <td>Starboy</td>\n",
       "      <td>1</td>\n",
       "      <td>2016-11-25</td>\n",
       "      <td>3</td>\n",
       "      <td>24261229</td>\n",
       "      <td>...</td>\n",
       "      <td>0.594</td>\n",
       "      <td>0.000003</td>\n",
       "      <td>7</td>\n",
       "      <td>0.134</td>\n",
       "      <td>-7.028</td>\n",
       "      <td>1</td>\n",
       "      <td>0.282</td>\n",
       "      <td>186.054</td>\n",
       "      <td>4</td>\n",
       "      <td>0.535</td>\n",
       "    </tr>\n",
       "  </tbody>\n",
       "</table>\n",
       "<p>3 rows × 28 columns</p>\n",
       "</div>"
      ],
      "text/plain": [
       "                 track_id                             track_uri artist_name  \\\n",
       "0  5aAx2yezTd8zXrkmtKl66Z  spotify:track:5aAx2yezTd8zXrkmtKl66Z  The Weeknd   \n",
       "1  5aAx2yezTd8zXrkmtKl66Z  spotify:track:5aAx2yezTd8zXrkmtKl66Z  The Weeknd   \n",
       "2  5aAx2yezTd8zXrkmtKl66Z  spotify:track:5aAx2yezTd8zXrkmtKl66Z  The Weeknd   \n",
       "\n",
       "                 album_id album_name track_name  popularity date_release  \\\n",
       "0  09fggMHib4YkOtwQNXEBII    Starboy    Starboy           1   2016-11-25   \n",
       "1  09fggMHib4YkOtwQNXEBII    Starboy    Starboy           1   2016-11-25   \n",
       "2  09fggMHib4YkOtwQNXEBII    Starboy    Starboy           1   2016-11-25   \n",
       "\n",
       "   Position   Streams  ... energy instrumentalness key liveness loudness  \\\n",
       "0         1  25286465  ...  0.594         0.000003   7    0.134   -7.028   \n",
       "1         1  25734078  ...  0.594         0.000003   7    0.134   -7.028   \n",
       "2         3  24261229  ...  0.594         0.000003   7    0.134   -7.028   \n",
       "\n",
       "   mode  speechiness    tempo  time_signature  valence  \n",
       "0     1        0.282  186.054               4    0.535  \n",
       "1     1        0.282  186.054               4    0.535  \n",
       "2     1        0.282  186.054               4    0.535  \n",
       "\n",
       "[3 rows x 28 columns]"
      ]
     },
     "execution_count": 12,
     "metadata": {},
     "output_type": "execute_result"
    }
   ],
   "source": [
    "data_featured.head(3)"
   ]
  },
  {
   "cell_type": "code",
   "execution_count": 13,
   "metadata": {},
   "outputs": [],
   "source": [
    "data_featured['date_release'] = pd.to_datetime(data_featured['date_release'])"
   ]
  },
  {
   "cell_type": "code",
   "execution_count": 14,
   "metadata": {},
   "outputs": [],
   "source": [
    "data_featured['year'] = pd.DatetimeIndex(data_featured['date_release']).year"
   ]
  },
  {
   "cell_type": "code",
   "execution_count": 15,
   "metadata": {},
   "outputs": [],
   "source": [
    "import seaborn as sns\n",
    "import matplotlib.pyplot as plt"
   ]
  },
  {
   "cell_type": "code",
   "execution_count": 16,
   "metadata": {},
   "outputs": [
    {
     "data": {
      "image/png": "[encoded data removed]",
      "text/plain": [
       "<Figure size 720x288 with 1 Axes>"
      ]
     },
     "metadata": {
      "needs_background": "light"
     },
     "output_type": "display_data"
    }
   ],
   "source": [
    "plt.figure(figsize=(10,4)) \n",
    "ax = sns.boxplot(x=data_featured.date_release.dt.year, y=data_featured.danceability)\n",
    "ax.set_xticklabels(ax.get_xticklabels(), rotation=40, ha=\"right\", fontsize=8.5)\n",
    "plt.tight_layout()\n",
    "plt.show()\n",
    "ax.get_figure().savefig('ax.png')"
   ]
  },
  {
   "cell_type": "code",
   "execution_count": 17,
   "metadata": {},
   "outputs": [
    {
     "data": {
      "image/png": "[encoded data removed]",
      "text/plain": [
       "<Figure size 432x288 with 1 Axes>"
      ]
     },
     "metadata": {
      "needs_background": "light"
     },
     "output_type": "display_data"
    }
   ],
   "source": [
    "sns.boxplot(x=data_featured.date_release.dt.month, y=data_featured.danceability)\n",
    "plt.tight_layout()\n",
    "plt.savefig('month.png')"
   ]
  },
  {
   "cell_type": "code",
   "execution_count": 18,
   "metadata": {},
   "outputs": [],
   "source": [
    "list_top_100 = list(data_featured.artist_name.values)"
   ]
  },
  {
   "cell_type": "code",
   "execution_count": 19,
   "metadata": {},
   "outputs": [],
   "source": [
    "all_artists = []\n",
    "for i in range(len(list_top_100)):\n",
    "    r1 = re.compile(r\"\\w{1,20}.\\w{1,20}\", re.MULTILINE | re.DOTALL)\n",
    "    r = r1.findall(list_top_100[i])\n",
    "    if len(r) > 0:\n",
    "        all_artists.append(r[0])"
   ]
  },
  {
   "cell_type": "code",
   "execution_count": 21,
   "metadata": {},
   "outputs": [],
   "source": [
    "c = Counter(all_artists)"
   ]
  },
  {
   "cell_type": "code",
   "execution_count": 22,
   "metadata": {},
   "outputs": [],
   "source": [
    "df_artists = pd.DataFrame(data = {'Name':list(c)[:30], 'Count':list(c.values())[:30]})"
   ]
  },
  {
   "cell_type": "code",
   "execution_count": 23,
   "metadata": {},
   "outputs": [
    {
     "data": {
      "text/plain": [
       "(array([ 0,  1,  2,  3,  4,  5,  6,  7,  8,  9, 10, 11, 12, 13, 14, 15, 16,\n",
       "        17, 18, 19, 20, 21, 22, 23, 24, 25, 26, 27, 28, 29]),\n",
       " [Text(0, 0, 'The Weeknd'),\n",
       "  Text(1, 0, 'The Chainsmokers'),\n",
       "  Text(2, 0, 'Clean Bandit'),\n",
       "  Text(3, 0, 'DJ Snake'),\n",
       "  Text(4, 0, 'Maroon 5'),\n",
       "  Text(5, 0, 'Rae Sremmurd'),\n",
       "  Text(6, 0, 'ZAYN'),\n",
       "  Text(7, 0, 'Drake'),\n",
       "  Text(8, 0, 'Bruno Mars'),\n",
       "  Text(9, 0, 'James Arthur'),\n",
       "  Text(10, 0, 'Mariah Carey'),\n",
       "  Text(11, 0, 'Major Lazer'),\n",
       "  Text(12, 0, 'Sia'),\n",
       "  Text(13, 0, 'Martin Garrix'),\n",
       "  Text(14, 0, 'Starley'),\n",
       "  Text(15, 0, 'Shakira'),\n",
       "  Text(16, 0, 'Ariana Grande'),\n",
       "  Text(17, 0, 'Steve Aoki'),\n",
       "  Text(18, 0, 'Wham'),\n",
       "  Text(19, 0, 'Hailee Steinfeld'),\n",
       "  Text(20, 0, 'Migos'),\n",
       "  Text(21, 0, 'Machine Gun'),\n",
       "  Text(22, 0, 'Shawn Mendes'),\n",
       "  Text(23, 0, 'Calvin Harris'),\n",
       "  Text(24, 0, 'Twenty One'),\n",
       "  Text(25, 0, 'Alessia Cara'),\n",
       "  Text(26, 0, 'CNCO'),\n",
       "  Text(27, 0, 'John Legend'),\n",
       "  Text(28, 0, 'The Vamps'),\n",
       "  Text(29, 0, 'Justin Timberlake')])"
      ]
     },
     "execution_count": 23,
     "metadata": {},
     "output_type": "execute_result"
    },
    {
     "data": {
      "image/png": "[encoded data removed]",
      "text/plain": [
       "<Figure size 720x576 with 1 Axes>"
      ]
     },
     "metadata": {
      "needs_background": "light"
     },
     "output_type": "display_data"
    }
   ],
   "source": [
    "fig = plt.figure(figsize = (10,8))\n",
    "sns.barplot(x = 'Name', y = 'Count', data = df_artists)\n",
    "plt.xticks(rotation=90)"
   ]
  },
  {
   "cell_type": "code",
   "execution_count": 24,
   "metadata": {},
   "outputs": [],
   "source": [
    "import dash\n",
    "import plotly.express as px\n",
    "from jupyter_dash import JupyterDash\n",
    "import dash_core_components as dcc\n",
    "import dash_html_components as html\n",
    "from dash.dependencies import Input, Output\n",
    "import dash_bootstrap_components as dbc"
   ]
  },
  {
   "cell_type": "code",
   "execution_count": 25,
   "metadata": {},
   "outputs": [],
   "source": [
    "# Load Data\n",
    "df = data_featured\n",
    "# Build App\n",
    "app = dash.Dash(external_stylesheets=[dbc.themes.LUX])\n",
    "colors = {\n",
    "    'background': '#111111',\n",
    "    'text': '#7FDBFF'\n",
    "}\n",
    "\n",
    "fig = px.scatter(df, x='year', y=df.danceability,\n",
    "                 size=\"popularity\", color=\"energy\", hover_name=\"artist_name\",\n",
    "                 log_x=True, size_max=60, template = 'plotly_dark')\n",
    "\n",
    "fig2 = px.scatter(df, x='year', y='valence',\n",
    "                 size=\"Streams\", color=\"liveness\", hover_name=\"artist_name\",\n",
    "                 log_x=True, size_max=60)\n",
    "\n",
    "fig3 = px.scatter(df, x='year', y='tempo',\n",
    "                 size=\"energy\", color=\"liveness\", hover_name=\"artist_name\",\n",
    "                 log_x=True, size_max=60, template = 'plotly_dark')\n",
    "\n",
    "app.layout = html.Div([\n",
    "    dbc.Row([\n",
    "        dbc.Col([\n",
    "            dbc.NavbarSimple(\n",
    "                [\n",
    "                    dbc.NavItem(dbc.NavLink('Spotify Analytics', href='https://spotifycharts.com/', target='_blank'))\n",
    "                ],\n",
    "                    brand='Spotify'\n",
    "                )\n",
    "            ])\n",
    "        ], no_gutters=True),\n",
    "    dbc.Row([\n",
    "            dbc.Col([\n",
    "                dbc.Card([\n",
    "                    dbc.CardBody([\n",
    "                        html.H1('Top Tracks from 2017 to 2021'),\n",
    "                        html.P('Audio features were provided by Spotify API. One of the most interesting ones is valence which measures so-called happiness of a track!'),\n",
    "                        html.Hr(),\n",
    "                     dbc.CardBody([\n",
    "                                dcc.Graph(id='energy', figure=fig)\n",
    "                            ]),\n",
    "                    dbc.CardBody([\n",
    "                            dbc.Col([\n",
    "                                dcc.Graph(id='val', figure=fig2)\n",
    "                            ]),\n",
    "                        ]),\n",
    "                        html.Br(),\n",
    "                        dbc.Row([\n",
    "                            dbc.Col([\n",
    "                                dcc.Graph(id='country-ts', figure=fig3)\n",
    "                            ])\n",
    "                        ])\n",
    "                ])\n",
    "            ]),\n",
    "            dbc.Card([\n",
    "                    dbc.CardBody([\n",
    "                        html.A(html.Button('View on Github!'),\n",
    "    href='https://github.com/Lavriz/spotify_analytics/tree/main'),\n",
    "                    ])\n",
    "                ]),\n",
    "            ], width=10),\n",
    "        ], no_gutters=True),\n",
    "])"
   ]
  },
  {
   "cell_type": "code",
   "execution_count": null,
   "metadata": {},
   "outputs": [
    {
     "name": "stdout",
     "output_type": "stream",
     "text": [
      "Dash is running on http://127.0.0.1:8051/\n",
      "\n",
      " * Serving Flask app \"__main__\" (lazy loading)\n",
      " * Environment: production\n",
      "\u001b[31m   WARNING: This is a development server. Do not use it in a production deployment.\u001b[0m\n",
      "\u001b[2m   Use a production WSGI server instead.\u001b[0m\n",
      " * Debug mode: off\n"
     ]
    },
    {
     "name": "stderr",
     "output_type": "stream",
     "text": [
      " * Running on http://127.0.0.1:8051/ (Press CTRL+C to quit)\n",
      "127.0.0.1 - - [27/Oct/2021 11:55:14] \"\u001b[37mGET / HTTP/1.1\u001b[0m\" 200 -\n",
      "127.0.0.1 - - [27/Oct/2021 11:55:14] \"\u001b[37mGET /_dash-component-suites/dash_html_components/dash_html_components.v1_1_3m1617909188.min.js HTTP/1.1\u001b[0m\" 200 -\n",
      "127.0.0.1 - - [27/Oct/2021 11:55:14] \"\u001b[37mGET /_dash-component-suites/dash_renderer/react@16.v1_9_1m1617900226.14.0.min.js HTTP/1.1\u001b[0m\" 200 -\n",
      "127.0.0.1 - - [27/Oct/2021 11:55:14] \"\u001b[37mGET /_dash-component-suites/dash_renderer/polyfill@7.v1_9_1m1617900226.8.7.min.js HTTP/1.1\u001b[0m\" 200 -\n",
      "127.0.0.1 - - [27/Oct/2021 11:55:14] \"\u001b[37mGET /_dash-component-suites/dash_bootstrap_components/_components/dash_bootstrap_components.v0_12_2m1624274226.min.js HTTP/1.1\u001b[0m\" 200 -\n",
      "127.0.0.1 - - [27/Oct/2021 11:55:14] \"\u001b[37mGET /_dash-component-suites/dash_renderer/react-dom@16.v1_9_1m1617900226.14.0.min.js HTTP/1.1\u001b[0m\" 200 -\n",
      "127.0.0.1 - - [27/Oct/2021 11:55:14] \"\u001b[37mGET /_dash-component-suites/dash_renderer/prop-types@15.v1_9_1m1617900226.7.2.min.js HTTP/1.1\u001b[0m\" 200 -\n",
      "127.0.0.1 - - [27/Oct/2021 11:55:14] \"\u001b[37mGET /_dash-component-suites/dash_core_components/dash_core_components-shared.v1_16_0m1617909890.js HTTP/1.1\u001b[0m\" 200 -\n",
      "127.0.0.1 - - [27/Oct/2021 11:55:14] \"\u001b[37mGET /_dash-component-suites/dash_renderer/dash_renderer.v1_9_1m1617900246.min.js HTTP/1.1\u001b[0m\" 200 -\n",
      "127.0.0.1 - - [27/Oct/2021 11:55:14] \"\u001b[37mGET /_dash-component-suites/dash_core_components/dash_core_components.v1_16_0m1617909890.min.js HTTP/1.1\u001b[0m\" 200 -\n",
      "127.0.0.1 - - [27/Oct/2021 11:55:15] \"\u001b[37mGET /_favicon.ico?v=1.20.0 HTTP/1.1\u001b[0m\" 200 -\n",
      "127.0.0.1 - - [27/Oct/2021 11:55:15] \"\u001b[37mGET /_dash-dependencies HTTP/1.1\u001b[0m\" 200 -\n",
      "127.0.0.1 - - [27/Oct/2021 11:55:16] \"\u001b[37mGET /_dash-layout HTTP/1.1\u001b[0m\" 200 -\n",
      "127.0.0.1 - - [27/Oct/2021 11:55:16] \"\u001b[37mGET /_dash-component-suites/dash_core_components/async-graph.v1_16_0m1617903285.js HTTP/1.1\u001b[0m\" 200 -\n",
      "127.0.0.1 - - [27/Oct/2021 11:55:16] \"\u001b[37mGET /_dash-component-suites/dash_core_components/async-plotlyjs.v1_16_0m1617903285.js HTTP/1.1\u001b[0m\" 200 -\n"
     ]
    }
   ],
   "source": [
    "app.run_server(port=8051)"
   ]
  }
 ],
 "metadata": {
  "kernelspec": {
   "display_name": "Python 3",
   "language": "python",
   "name": "python3"
  },
  "language_info": {
   "codemirror_mode": {
    "name": "ipython",
    "version": 3
   },
   "file_extension": ".py",
   "mimetype": "text/x-python",
   "name": "python",
   "nbconvert_exporter": "python",
   "pygments_lexer": "ipython3",
   "version": "3.8.2"
  }
 },
 "nbformat": 4,
 "nbformat_minor": 4
}
